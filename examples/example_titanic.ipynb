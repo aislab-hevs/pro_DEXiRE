{
 "cells": [
  {
   "cell_type": "code",
   "execution_count": 1,
   "metadata": {},
   "outputs": [
    {
     "name": "stdout",
     "output_type": "stream",
     "text": [
      "WARNING:tensorflow:From c:\\Users\\victorhu.contrera\\Anaconda3\\envs\\prodexire\\lib\\site-packages\\keras\\src\\losses.py:2976: The name tf.losses.sparse_softmax_cross_entropy is deprecated. Please use tf.compat.v1.losses.sparse_softmax_cross_entropy instead.\n",
      "\n"
     ]
    }
   ],
   "source": [
    "import pandas as pd \n",
    "import numpy as np\n",
    "import tensorflow as tf\n",
    "from sklearn.model_selection import train_test_split\n",
    "from pathlib import Path\n",
    "import os\n",
    "import sys\n",
    "from sklearn.preprocessing import OneHotEncoder, StandardScaler\n",
    "from sklearn.compose import ColumnTransformer"
   ]
  },
  {
   "cell_type": "code",
   "execution_count": 2,
   "metadata": {},
   "outputs": [
    {
     "data": {
      "text/html": [
       "<div>\n",
       "<style scoped>\n",
       "    .dataframe tbody tr th:only-of-type {\n",
       "        vertical-align: middle;\n",
       "    }\n",
       "\n",
       "    .dataframe tbody tr th {\n",
       "        vertical-align: top;\n",
       "    }\n",
       "\n",
       "    .dataframe thead th {\n",
       "        text-align: right;\n",
       "    }\n",
       "</style>\n",
       "<table border=\"1\" class=\"dataframe\">\n",
       "  <thead>\n",
       "    <tr style=\"text-align: right;\">\n",
       "      <th></th>\n",
       "      <th>Survived</th>\n",
       "      <th>Pclass</th>\n",
       "      <th>Name</th>\n",
       "      <th>Sex</th>\n",
       "      <th>Age</th>\n",
       "      <th>SibSp</th>\n",
       "      <th>Parch</th>\n",
       "      <th>Ticket</th>\n",
       "      <th>Fare</th>\n",
       "      <th>Cabin</th>\n",
       "      <th>Embarked</th>\n",
       "    </tr>\n",
       "    <tr>\n",
       "      <th>PassengerId</th>\n",
       "      <th></th>\n",
       "      <th></th>\n",
       "      <th></th>\n",
       "      <th></th>\n",
       "      <th></th>\n",
       "      <th></th>\n",
       "      <th></th>\n",
       "      <th></th>\n",
       "      <th></th>\n",
       "      <th></th>\n",
       "      <th></th>\n",
       "    </tr>\n",
       "  </thead>\n",
       "  <tbody>\n",
       "    <tr>\n",
       "      <th>1</th>\n",
       "      <td>0</td>\n",
       "      <td>3</td>\n",
       "      <td>Braund, Mr. Owen Harris</td>\n",
       "      <td>male</td>\n",
       "      <td>22.0</td>\n",
       "      <td>1</td>\n",
       "      <td>0</td>\n",
       "      <td>A/5 21171</td>\n",
       "      <td>7.2500</td>\n",
       "      <td>NaN</td>\n",
       "      <td>S</td>\n",
       "    </tr>\n",
       "    <tr>\n",
       "      <th>2</th>\n",
       "      <td>1</td>\n",
       "      <td>1</td>\n",
       "      <td>Cumings, Mrs. John Bradley (Florence Briggs Th...</td>\n",
       "      <td>female</td>\n",
       "      <td>38.0</td>\n",
       "      <td>1</td>\n",
       "      <td>0</td>\n",
       "      <td>PC 17599</td>\n",
       "      <td>71.2833</td>\n",
       "      <td>C85</td>\n",
       "      <td>C</td>\n",
       "    </tr>\n",
       "    <tr>\n",
       "      <th>3</th>\n",
       "      <td>1</td>\n",
       "      <td>3</td>\n",
       "      <td>Heikkinen, Miss. Laina</td>\n",
       "      <td>female</td>\n",
       "      <td>26.0</td>\n",
       "      <td>0</td>\n",
       "      <td>0</td>\n",
       "      <td>STON/O2. 3101282</td>\n",
       "      <td>7.9250</td>\n",
       "      <td>NaN</td>\n",
       "      <td>S</td>\n",
       "    </tr>\n",
       "  </tbody>\n",
       "</table>\n",
       "</div>"
      ],
      "text/plain": [
       "             Survived  Pclass  \\\n",
       "PassengerId                     \n",
       "1                   0       3   \n",
       "2                   1       1   \n",
       "3                   1       3   \n",
       "\n",
       "                                                          Name     Sex   Age  \\\n",
       "PassengerId                                                                    \n",
       "1                                      Braund, Mr. Owen Harris    male  22.0   \n",
       "2            Cumings, Mrs. John Bradley (Florence Briggs Th...  female  38.0   \n",
       "3                                       Heikkinen, Miss. Laina  female  26.0   \n",
       "\n",
       "             SibSp  Parch            Ticket     Fare Cabin Embarked  \n",
       "PassengerId                                                          \n",
       "1                1      0         A/5 21171   7.2500   NaN        S  \n",
       "2                1      0          PC 17599  71.2833   C85        C  \n",
       "3                0      0  STON/O2. 3101282   7.9250   NaN        S  "
      ]
     },
     "execution_count": 2,
     "metadata": {},
     "output_type": "execute_result"
    }
   ],
   "source": [
    "# load data \n",
    "base_path = Path.cwd().parent\n",
    "data_dir = os.path.join(base_path, 'data', 'titanic.csv')\n",
    "data = pd.read_csv(data_dir, index_col=0)\n",
    "data.head(3)"
   ]
  },
  {
   "cell_type": "code",
   "execution_count": 3,
   "metadata": {},
   "outputs": [],
   "source": [
    "# select important features \n",
    "selected_columns = ['Survived', 'Pclass', 'Sex', 'Age', 'SibSp', 'Parch', 'Fare', 'Embarked']\n",
    "selected_data = data[selected_columns].copy()"
   ]
  },
  {
   "cell_type": "code",
   "execution_count": 4,
   "metadata": {},
   "outputs": [
    {
     "name": "stdout",
     "output_type": "stream",
     "text": [
      "Age has 177 missing values\n",
      "Embarked has 2 missing values\n"
     ]
    }
   ],
   "source": [
    "# check for missing values\n",
    "def check_missing_values(df):\n",
    "    for col in df.columns:\n",
    "        missing_values = df[col].isnull().sum()\n",
    "        if missing_values > 0:\n",
    "            print(f'{col} has {missing_values} missing values')\n",
    "            \n",
    "check_missing_values(selected_data)"
   ]
  },
  {
   "cell_type": "code",
   "execution_count": 5,
   "metadata": {},
   "outputs": [],
   "source": [
    "# impute missing values\n",
    "\n",
    "from sklearn.impute import SimpleImputer\n",
    "imputer = SimpleImputer(strategy='mean')\n",
    "selected_data[['Age', 'Fare']] = imputer.fit_transform(selected_data[['Age', 'Fare']])"
   ]
  },
  {
   "cell_type": "code",
   "execution_count": 6,
   "metadata": {},
   "outputs": [],
   "source": [
    "numerical_features = ['Pclass', 'Age', 'SibSp', 'Parch', 'Fare']\n",
    "categorical_features = ['Sex', 'Embarked']"
   ]
  },
  {
   "cell_type": "code",
   "execution_count": 7,
   "metadata": {},
   "outputs": [],
   "source": [
    "# encode categorical variables and prepare data for training\n",
    "preprocessor = ColumnTransformer(\n",
    "    [\n",
    "        ('onehot', OneHotEncoder(sparse_output=False), categorical_features),\n",
    "        ('scaler', StandardScaler(), numerical_features)\n",
    "    ],\n",
    "    remainder='passthrough'\n",
    ")"
   ]
  },
  {
   "cell_type": "code",
   "execution_count": 8,
   "metadata": {},
   "outputs": [],
   "source": [
    "prepared_data = preprocessor.fit_transform(selected_data)"
   ]
  },
  {
   "cell_type": "code",
   "execution_count": 9,
   "metadata": {},
   "outputs": [],
   "source": [
    "feature_names = preprocessor.get_feature_names_out()"
   ]
  },
  {
   "cell_type": "code",
   "execution_count": 10,
   "metadata": {},
   "outputs": [
    {
     "data": {
      "text/plain": [
       "array(['onehot__Sex_female', 'onehot__Sex_male', 'onehot__Embarked_C',\n",
       "       'onehot__Embarked_Q', 'onehot__Embarked_S', 'onehot__Embarked_nan',\n",
       "       'scaler__Pclass', 'scaler__Age', 'scaler__SibSp', 'scaler__Parch',\n",
       "       'scaler__Fare', 'remainder__Survived'], dtype=object)"
      ]
     },
     "execution_count": 10,
     "metadata": {},
     "output_type": "execute_result"
    }
   ],
   "source": [
    "preprocessor.get_feature_names_out()"
   ]
  },
  {
   "cell_type": "code",
   "execution_count": 11,
   "metadata": {},
   "outputs": [],
   "source": [
    "X = prepared_data[:, :-1]\n",
    "y = prepared_data[:, -1]"
   ]
  },
  {
   "cell_type": "code",
   "execution_count": 12,
   "metadata": {},
   "outputs": [],
   "source": [
    "# split the data into training and testing sets\n",
    "X_tr, X_test, y_tr, y_test = train_test_split(X, y, test_size=0.2, random_state=42)"
   ]
  },
  {
   "cell_type": "code",
   "execution_count": 13,
   "metadata": {},
   "outputs": [],
   "source": [
    "# val split \n",
    "X_train, X_val, y_train, y_val = train_test_split(X_tr, y_tr, test_size=0.2, random_state=42)"
   ]
  },
  {
   "cell_type": "code",
   "execution_count": 14,
   "metadata": {},
   "outputs": [
    {
     "name": "stdout",
     "output_type": "stream",
     "text": [
      "WARNING:tensorflow:From c:\\Users\\victorhu.contrera\\Anaconda3\\envs\\prodexire\\lib\\site-packages\\keras\\src\\backend.py:873: The name tf.get_default_graph is deprecated. Please use tf.compat.v1.get_default_graph instead.\n",
      "\n"
     ]
    }
   ],
   "source": [
    "# create a train model \n",
    "model = tf.keras.models.Sequential([tf.keras.layers.Dense(8, activation='linear', input_shape=(X_train.shape[1],)),\n",
    "                                    tf.keras.layers.Dropout(0.2),\n",
    "                                    tf.keras.layers.Dense(4, activation='relu'),\n",
    "                                    tf.keras.layers.Dropout(0.1),\n",
    "                                    tf.keras.layers.Dense(1, activation='sigmoid')])"
   ]
  },
  {
   "cell_type": "code",
   "execution_count": 15,
   "metadata": {},
   "outputs": [
    {
     "name": "stdout",
     "output_type": "stream",
     "text": [
      "WARNING:tensorflow:From c:\\Users\\victorhu.contrera\\Anaconda3\\envs\\prodexire\\lib\\site-packages\\keras\\src\\optimizers\\__init__.py:309: The name tf.train.Optimizer is deprecated. Please use tf.compat.v1.train.Optimizer instead.\n",
      "\n"
     ]
    }
   ],
   "source": [
    "# compile the model\n",
    "model.compile(optimizer='adam', loss='binary_crossentropy', metrics=['accuracy'])"
   ]
  },
  {
   "cell_type": "code",
   "execution_count": 16,
   "metadata": {},
   "outputs": [
    {
     "name": "stdout",
     "output_type": "stream",
     "text": [
      "Epoch 1/100\n",
      "WARNING:tensorflow:From c:\\Users\\victorhu.contrera\\Anaconda3\\envs\\prodexire\\lib\\site-packages\\keras\\src\\utils\\tf_utils.py:492: The name tf.ragged.RaggedTensorValue is deprecated. Please use tf.compat.v1.ragged.RaggedTensorValue instead.\n",
      "\n",
      "WARNING:tensorflow:From c:\\Users\\victorhu.contrera\\Anaconda3\\envs\\prodexire\\lib\\site-packages\\keras\\src\\engine\\base_layer_utils.py:384: The name tf.executing_eagerly_outside_functions is deprecated. Please use tf.compat.v1.executing_eagerly_outside_functions instead.\n",
      "\n",
      "18/18 [==============================] - 1s 13ms/step - loss: 0.7607 - accuracy: 0.4359 - val_loss: 0.7260 - val_accuracy: 0.4406\n",
      "Epoch 2/100\n",
      "18/18 [==============================] - 0s 4ms/step - loss: 0.7286 - accuracy: 0.4956 - val_loss: 0.6991 - val_accuracy: 0.4825\n",
      "Epoch 3/100\n",
      "18/18 [==============================] - 0s 3ms/step - loss: 0.7248 - accuracy: 0.5114 - val_loss: 0.6819 - val_accuracy: 0.5594\n",
      "Epoch 4/100\n",
      "18/18 [==============================] - 0s 3ms/step - loss: 0.6962 - accuracy: 0.5589 - val_loss: 0.6692 - val_accuracy: 0.5874\n",
      "Epoch 5/100\n",
      "18/18 [==============================] - 0s 3ms/step - loss: 0.6911 - accuracy: 0.5589 - val_loss: 0.6575 - val_accuracy: 0.6224\n",
      "Epoch 6/100\n",
      "18/18 [==============================] - 0s 3ms/step - loss: 0.6750 - accuracy: 0.6362 - val_loss: 0.6446 - val_accuracy: 0.6923\n",
      "Epoch 7/100\n",
      "18/18 [==============================] - 0s 3ms/step - loss: 0.6597 - accuracy: 0.6520 - val_loss: 0.6302 - val_accuracy: 0.7203\n",
      "Epoch 8/100\n",
      "18/18 [==============================] - 0s 3ms/step - loss: 0.6469 - accuracy: 0.6731 - val_loss: 0.6177 - val_accuracy: 0.7483\n",
      "Epoch 9/100\n",
      "18/18 [==============================] - 0s 3ms/step - loss: 0.6408 - accuracy: 0.6784 - val_loss: 0.6058 - val_accuracy: 0.7483\n",
      "Epoch 10/100\n",
      "18/18 [==============================] - 0s 3ms/step - loss: 0.6156 - accuracy: 0.7206 - val_loss: 0.5917 - val_accuracy: 0.7413\n",
      "Epoch 11/100\n",
      "18/18 [==============================] - 0s 3ms/step - loss: 0.6128 - accuracy: 0.6960 - val_loss: 0.5786 - val_accuracy: 0.7483\n",
      "Epoch 12/100\n",
      "18/18 [==============================] - 0s 3ms/step - loss: 0.5872 - accuracy: 0.7118 - val_loss: 0.5667 - val_accuracy: 0.7552\n",
      "Epoch 13/100\n",
      "18/18 [==============================] - 0s 3ms/step - loss: 0.5905 - accuracy: 0.7258 - val_loss: 0.5552 - val_accuracy: 0.7552\n",
      "Epoch 14/100\n",
      "18/18 [==============================] - 0s 3ms/step - loss: 0.5718 - accuracy: 0.7381 - val_loss: 0.5469 - val_accuracy: 0.7552\n",
      "Epoch 15/100\n",
      "18/18 [==============================] - 0s 3ms/step - loss: 0.5690 - accuracy: 0.7452 - val_loss: 0.5364 - val_accuracy: 0.7762\n",
      "Epoch 16/100\n",
      "18/18 [==============================] - 0s 3ms/step - loss: 0.5653 - accuracy: 0.7381 - val_loss: 0.5252 - val_accuracy: 0.7762\n",
      "Epoch 17/100\n",
      "18/18 [==============================] - 0s 3ms/step - loss: 0.5552 - accuracy: 0.7557 - val_loss: 0.5170 - val_accuracy: 0.7902\n",
      "Epoch 18/100\n",
      "18/18 [==============================] - 0s 3ms/step - loss: 0.5335 - accuracy: 0.7434 - val_loss: 0.5070 - val_accuracy: 0.7832\n",
      "Epoch 19/100\n",
      "18/18 [==============================] - 0s 3ms/step - loss: 0.5194 - accuracy: 0.7750 - val_loss: 0.4982 - val_accuracy: 0.7762\n",
      "Epoch 20/100\n",
      "18/18 [==============================] - 0s 3ms/step - loss: 0.5266 - accuracy: 0.7715 - val_loss: 0.4901 - val_accuracy: 0.7762\n",
      "Epoch 21/100\n",
      "18/18 [==============================] - 0s 3ms/step - loss: 0.5152 - accuracy: 0.7540 - val_loss: 0.4835 - val_accuracy: 0.7762\n",
      "Epoch 22/100\n",
      "18/18 [==============================] - 0s 3ms/step - loss: 0.5181 - accuracy: 0.7698 - val_loss: 0.4768 - val_accuracy: 0.7832\n",
      "Epoch 23/100\n",
      "18/18 [==============================] - 0s 3ms/step - loss: 0.5296 - accuracy: 0.7592 - val_loss: 0.4712 - val_accuracy: 0.7972\n",
      "Epoch 24/100\n",
      "18/18 [==============================] - 0s 3ms/step - loss: 0.4946 - accuracy: 0.7575 - val_loss: 0.4664 - val_accuracy: 0.8042\n",
      "Epoch 25/100\n",
      "18/18 [==============================] - 0s 3ms/step - loss: 0.5109 - accuracy: 0.7750 - val_loss: 0.4623 - val_accuracy: 0.8042\n",
      "Epoch 26/100\n",
      "18/18 [==============================] - 0s 3ms/step - loss: 0.5079 - accuracy: 0.7803 - val_loss: 0.4590 - val_accuracy: 0.8182\n",
      "Epoch 27/100\n",
      "18/18 [==============================] - 0s 3ms/step - loss: 0.5039 - accuracy: 0.7838 - val_loss: 0.4560 - val_accuracy: 0.8252\n",
      "Epoch 28/100\n",
      "18/18 [==============================] - 0s 3ms/step - loss: 0.4758 - accuracy: 0.7698 - val_loss: 0.4523 - val_accuracy: 0.8252\n",
      "Epoch 29/100\n",
      "18/18 [==============================] - 0s 3ms/step - loss: 0.5179 - accuracy: 0.7575 - val_loss: 0.4503 - val_accuracy: 0.8252\n",
      "Epoch 30/100\n",
      "18/18 [==============================] - 0s 3ms/step - loss: 0.4982 - accuracy: 0.7733 - val_loss: 0.4488 - val_accuracy: 0.8322\n",
      "Epoch 31/100\n",
      "18/18 [==============================] - 0s 3ms/step - loss: 0.5057 - accuracy: 0.7434 - val_loss: 0.4475 - val_accuracy: 0.8252\n",
      "Epoch 32/100\n",
      "18/18 [==============================] - 0s 3ms/step - loss: 0.4800 - accuracy: 0.7856 - val_loss: 0.4453 - val_accuracy: 0.8322\n",
      "Epoch 33/100\n",
      "18/18 [==============================] - 0s 3ms/step - loss: 0.4861 - accuracy: 0.7979 - val_loss: 0.4426 - val_accuracy: 0.8322\n",
      "Epoch 34/100\n",
      "18/18 [==============================] - 0s 3ms/step - loss: 0.5001 - accuracy: 0.7856 - val_loss: 0.4397 - val_accuracy: 0.8322\n",
      "Epoch 35/100\n",
      "18/18 [==============================] - 0s 3ms/step - loss: 0.5081 - accuracy: 0.7698 - val_loss: 0.4384 - val_accuracy: 0.8252\n",
      "Epoch 36/100\n",
      "18/18 [==============================] - 0s 3ms/step - loss: 0.4899 - accuracy: 0.7803 - val_loss: 0.4380 - val_accuracy: 0.8322\n",
      "Epoch 37/100\n",
      "18/18 [==============================] - 0s 3ms/step - loss: 0.4753 - accuracy: 0.7873 - val_loss: 0.4355 - val_accuracy: 0.8252\n",
      "Epoch 38/100\n",
      "18/18 [==============================] - 0s 3ms/step - loss: 0.4997 - accuracy: 0.7663 - val_loss: 0.4338 - val_accuracy: 0.8392\n",
      "Epoch 39/100\n",
      "18/18 [==============================] - 0s 3ms/step - loss: 0.4787 - accuracy: 0.7838 - val_loss: 0.4328 - val_accuracy: 0.8392\n",
      "Epoch 40/100\n",
      "18/18 [==============================] - 0s 3ms/step - loss: 0.4986 - accuracy: 0.7873 - val_loss: 0.4321 - val_accuracy: 0.8392\n",
      "Epoch 41/100\n",
      "18/18 [==============================] - 0s 4ms/step - loss: 0.4914 - accuracy: 0.7645 - val_loss: 0.4316 - val_accuracy: 0.8392\n",
      "Epoch 42/100\n",
      "18/18 [==============================] - 0s 3ms/step - loss: 0.4641 - accuracy: 0.8067 - val_loss: 0.4309 - val_accuracy: 0.8322\n",
      "Epoch 43/100\n",
      "18/18 [==============================] - 0s 3ms/step - loss: 0.4741 - accuracy: 0.7979 - val_loss: 0.4293 - val_accuracy: 0.8322\n",
      "Epoch 44/100\n",
      "18/18 [==============================] - 0s 3ms/step - loss: 0.4656 - accuracy: 0.7873 - val_loss: 0.4277 - val_accuracy: 0.8392\n",
      "Epoch 45/100\n",
      "18/18 [==============================] - 0s 3ms/step - loss: 0.4739 - accuracy: 0.7926 - val_loss: 0.4260 - val_accuracy: 0.8462\n",
      "Epoch 46/100\n",
      "18/18 [==============================] - 0s 3ms/step - loss: 0.4964 - accuracy: 0.7856 - val_loss: 0.4250 - val_accuracy: 0.8462\n",
      "Epoch 47/100\n",
      "18/18 [==============================] - 0s 3ms/step - loss: 0.4797 - accuracy: 0.7909 - val_loss: 0.4251 - val_accuracy: 0.8462\n",
      "Epoch 48/100\n",
      "18/18 [==============================] - 0s 3ms/step - loss: 0.4896 - accuracy: 0.7786 - val_loss: 0.4239 - val_accuracy: 0.8392\n",
      "Epoch 49/100\n",
      "18/18 [==============================] - 0s 3ms/step - loss: 0.4900 - accuracy: 0.7961 - val_loss: 0.4237 - val_accuracy: 0.8462\n",
      "Epoch 50/100\n",
      "18/18 [==============================] - 0s 3ms/step - loss: 0.4784 - accuracy: 0.7803 - val_loss: 0.4232 - val_accuracy: 0.8462\n",
      "Epoch 51/100\n",
      "18/18 [==============================] - 0s 3ms/step - loss: 0.5009 - accuracy: 0.7750 - val_loss: 0.4229 - val_accuracy: 0.8392\n",
      "Epoch 52/100\n",
      "18/18 [==============================] - 0s 3ms/step - loss: 0.4844 - accuracy: 0.7909 - val_loss: 0.4225 - val_accuracy: 0.8322\n",
      "Epoch 53/100\n",
      "18/18 [==============================] - 0s 3ms/step - loss: 0.4894 - accuracy: 0.7821 - val_loss: 0.4217 - val_accuracy: 0.8322\n",
      "Epoch 54/100\n",
      "18/18 [==============================] - 0s 3ms/step - loss: 0.4852 - accuracy: 0.7961 - val_loss: 0.4207 - val_accuracy: 0.8392\n",
      "Epoch 55/100\n",
      "18/18 [==============================] - 0s 3ms/step - loss: 0.4769 - accuracy: 0.7891 - val_loss: 0.4196 - val_accuracy: 0.8392\n",
      "Epoch 56/100\n",
      "18/18 [==============================] - 0s 3ms/step - loss: 0.4841 - accuracy: 0.7891 - val_loss: 0.4194 - val_accuracy: 0.8392\n",
      "Epoch 57/100\n",
      "18/18 [==============================] - 0s 3ms/step - loss: 0.4655 - accuracy: 0.7909 - val_loss: 0.4193 - val_accuracy: 0.8392\n",
      "Epoch 58/100\n",
      "18/18 [==============================] - 0s 3ms/step - loss: 0.4795 - accuracy: 0.7926 - val_loss: 0.4184 - val_accuracy: 0.8392\n",
      "Epoch 59/100\n",
      "18/18 [==============================] - 0s 3ms/step - loss: 0.4835 - accuracy: 0.7821 - val_loss: 0.4181 - val_accuracy: 0.8322\n",
      "Epoch 60/100\n",
      "18/18 [==============================] - 0s 3ms/step - loss: 0.4698 - accuracy: 0.7979 - val_loss: 0.4175 - val_accuracy: 0.8322\n",
      "Epoch 61/100\n",
      "18/18 [==============================] - 0s 3ms/step - loss: 0.4804 - accuracy: 0.7909 - val_loss: 0.4173 - val_accuracy: 0.8322\n",
      "Epoch 62/100\n",
      "18/18 [==============================] - 0s 3ms/step - loss: 0.4784 - accuracy: 0.7926 - val_loss: 0.4166 - val_accuracy: 0.8322\n",
      "Epoch 63/100\n",
      "18/18 [==============================] - 0s 3ms/step - loss: 0.4612 - accuracy: 0.8014 - val_loss: 0.4157 - val_accuracy: 0.8392\n",
      "Epoch 64/100\n",
      "18/18 [==============================] - 0s 3ms/step - loss: 0.4697 - accuracy: 0.8102 - val_loss: 0.4151 - val_accuracy: 0.8392\n",
      "Epoch 65/100\n",
      "18/18 [==============================] - 0s 3ms/step - loss: 0.4553 - accuracy: 0.8049 - val_loss: 0.4144 - val_accuracy: 0.8322\n",
      "Epoch 66/100\n",
      "18/18 [==============================] - 0s 3ms/step - loss: 0.4791 - accuracy: 0.7944 - val_loss: 0.4138 - val_accuracy: 0.8322\n",
      "Epoch 67/100\n",
      "18/18 [==============================] - 0s 3ms/step - loss: 0.4614 - accuracy: 0.7856 - val_loss: 0.4135 - val_accuracy: 0.8322\n",
      "Epoch 68/100\n",
      "18/18 [==============================] - 0s 3ms/step - loss: 0.4961 - accuracy: 0.7733 - val_loss: 0.4134 - val_accuracy: 0.8322\n",
      "Epoch 69/100\n",
      "18/18 [==============================] - 0s 3ms/step - loss: 0.4784 - accuracy: 0.8084 - val_loss: 0.4134 - val_accuracy: 0.8322\n",
      "Epoch 70/100\n",
      "18/18 [==============================] - 0s 3ms/step - loss: 0.4748 - accuracy: 0.7768 - val_loss: 0.4128 - val_accuracy: 0.8322\n",
      "Epoch 71/100\n",
      "18/18 [==============================] - 0s 3ms/step - loss: 0.4588 - accuracy: 0.7891 - val_loss: 0.4128 - val_accuracy: 0.8322\n",
      "Epoch 72/100\n",
      "18/18 [==============================] - 0s 3ms/step - loss: 0.4565 - accuracy: 0.7944 - val_loss: 0.4122 - val_accuracy: 0.8322\n",
      "Epoch 73/100\n",
      "18/18 [==============================] - 0s 3ms/step - loss: 0.4603 - accuracy: 0.8190 - val_loss: 0.4119 - val_accuracy: 0.8322\n",
      "Epoch 74/100\n",
      "18/18 [==============================] - 0s 3ms/step - loss: 0.4976 - accuracy: 0.7873 - val_loss: 0.4116 - val_accuracy: 0.8322\n",
      "Epoch 75/100\n",
      "18/18 [==============================] - 0s 5ms/step - loss: 0.4706 - accuracy: 0.7926 - val_loss: 0.4116 - val_accuracy: 0.8322\n",
      "Epoch 76/100\n",
      "18/18 [==============================] - 0s 3ms/step - loss: 0.4624 - accuracy: 0.8032 - val_loss: 0.4107 - val_accuracy: 0.8322\n",
      "Epoch 77/100\n",
      "18/18 [==============================] - 0s 3ms/step - loss: 0.4697 - accuracy: 0.8014 - val_loss: 0.4114 - val_accuracy: 0.8322\n",
      "Epoch 78/100\n",
      "18/18 [==============================] - 0s 4ms/step - loss: 0.4911 - accuracy: 0.7733 - val_loss: 0.4119 - val_accuracy: 0.8322\n",
      "Epoch 79/100\n",
      "18/18 [==============================] - 0s 3ms/step - loss: 0.4529 - accuracy: 0.7944 - val_loss: 0.4112 - val_accuracy: 0.8252\n",
      "Epoch 80/100\n",
      "18/18 [==============================] - 0s 3ms/step - loss: 0.4593 - accuracy: 0.7944 - val_loss: 0.4103 - val_accuracy: 0.8252\n",
      "Epoch 81/100\n",
      "18/18 [==============================] - 0s 3ms/step - loss: 0.4694 - accuracy: 0.7944 - val_loss: 0.4100 - val_accuracy: 0.8322\n",
      "Epoch 82/100\n",
      "18/18 [==============================] - 0s 4ms/step - loss: 0.4636 - accuracy: 0.7961 - val_loss: 0.4101 - val_accuracy: 0.8252\n",
      "Epoch 83/100\n",
      "18/18 [==============================] - 0s 3ms/step - loss: 0.4527 - accuracy: 0.8032 - val_loss: 0.4100 - val_accuracy: 0.8252\n",
      "Epoch 84/100\n",
      "18/18 [==============================] - 0s 3ms/step - loss: 0.4636 - accuracy: 0.7979 - val_loss: 0.4096 - val_accuracy: 0.8252\n",
      "Epoch 85/100\n",
      "18/18 [==============================] - 0s 3ms/step - loss: 0.4518 - accuracy: 0.8155 - val_loss: 0.4093 - val_accuracy: 0.8252\n",
      "Epoch 86/100\n",
      "18/18 [==============================] - 0s 3ms/step - loss: 0.4590 - accuracy: 0.7961 - val_loss: 0.4093 - val_accuracy: 0.8322\n",
      "Epoch 87/100\n",
      "18/18 [==============================] - 0s 3ms/step - loss: 0.4628 - accuracy: 0.7944 - val_loss: 0.4085 - val_accuracy: 0.8182\n",
      "Epoch 88/100\n",
      "18/18 [==============================] - 0s 3ms/step - loss: 0.4621 - accuracy: 0.8049 - val_loss: 0.4086 - val_accuracy: 0.8252\n",
      "Epoch 89/100\n",
      "18/18 [==============================] - 0s 3ms/step - loss: 0.4641 - accuracy: 0.7768 - val_loss: 0.4086 - val_accuracy: 0.8252\n",
      "Epoch 90/100\n",
      "18/18 [==============================] - 0s 3ms/step - loss: 0.4704 - accuracy: 0.7926 - val_loss: 0.4083 - val_accuracy: 0.8252\n",
      "Epoch 91/100\n",
      "18/18 [==============================] - 0s 3ms/step - loss: 0.4509 - accuracy: 0.8049 - val_loss: 0.4081 - val_accuracy: 0.8252\n",
      "Epoch 92/100\n",
      "18/18 [==============================] - 0s 3ms/step - loss: 0.4581 - accuracy: 0.7768 - val_loss: 0.4082 - val_accuracy: 0.8252\n",
      "Epoch 93/100\n",
      "18/18 [==============================] - 0s 3ms/step - loss: 0.4734 - accuracy: 0.7873 - val_loss: 0.4078 - val_accuracy: 0.8252\n",
      "Epoch 94/100\n",
      "18/18 [==============================] - 0s 3ms/step - loss: 0.4717 - accuracy: 0.7926 - val_loss: 0.4082 - val_accuracy: 0.8252\n",
      "Epoch 95/100\n",
      "18/18 [==============================] - 0s 3ms/step - loss: 0.4730 - accuracy: 0.8084 - val_loss: 0.4082 - val_accuracy: 0.8252\n",
      "Epoch 96/100\n",
      "18/18 [==============================] - 0s 3ms/step - loss: 0.4625 - accuracy: 0.8137 - val_loss: 0.4087 - val_accuracy: 0.8322\n",
      "Epoch 97/100\n",
      "18/18 [==============================] - 0s 3ms/step - loss: 0.4803 - accuracy: 0.8032 - val_loss: 0.4086 - val_accuracy: 0.8322\n",
      "Epoch 98/100\n",
      "18/18 [==============================] - 0s 3ms/step - loss: 0.4499 - accuracy: 0.7944 - val_loss: 0.4082 - val_accuracy: 0.8322\n",
      "Epoch 99/100\n",
      "18/18 [==============================] - 0s 3ms/step - loss: 0.4621 - accuracy: 0.8049 - val_loss: 0.4074 - val_accuracy: 0.8322\n",
      "Epoch 100/100\n",
      "18/18 [==============================] - 0s 3ms/step - loss: 0.4557 - accuracy: 0.7979 - val_loss: 0.4071 - val_accuracy: 0.8252\n"
     ]
    }
   ],
   "source": [
    "# train the model\n",
    "history = model.fit(X_train, \n",
    "                    y_train, \n",
    "                    epochs=100,\n",
    "                    validation_data=(X_val, y_val))"
   ]
  },
  {
   "cell_type": "code",
   "execution_count": 17,
   "metadata": {},
   "outputs": [
    {
     "name": "stdout",
     "output_type": "stream",
     "text": [
      "INFO:tensorflow:Assets written to: c:\\Users\\victorhu.contrera\\Documents\\pro_dexire\\pro_DEXiRE\\models\\titanic_model.tf\\assets\n"
     ]
    },
    {
     "name": "stderr",
     "output_type": "stream",
     "text": [
      "INFO:tensorflow:Assets written to: c:\\Users\\victorhu.contrera\\Documents\\pro_dexire\\pro_DEXiRE\\models\\titanic_model.tf\\assets\n"
     ]
    }
   ],
   "source": [
    "# save the model\n",
    "target_dir = os.path.join(base_path, 'models')\n",
    "model.save(os.path.join(target_dir,'titanic_model.tf'))"
   ]
  },
  {
   "cell_type": "code",
   "execution_count": 18,
   "metadata": {},
   "outputs": [],
   "source": [
    "from sklearn.metrics import (accuracy_score, \n",
    "                             precision_recall_curve, \n",
    "                             precision_score, \n",
    "                             recall_score, \n",
    "                             f1_score, \n",
    "                             classification_report, \n",
    "                             ConfusionMatrixDisplay,\n",
    "                             confusion_matrix)"
   ]
  },
  {
   "cell_type": "code",
   "execution_count": 19,
   "metadata": {},
   "outputs": [
    {
     "name": "stdout",
     "output_type": "stream",
     "text": [
      "6/6 [==============================] - 0s 1ms/step\n"
     ]
    }
   ],
   "source": [
    "# eval the model \n",
    "y_pred = model.predict(X_test)\n",
    "y_pred_classes = np.rint(y_pred)"
   ]
  },
  {
   "cell_type": "code",
   "execution_count": 20,
   "metadata": {},
   "outputs": [
    {
     "name": "stdout",
     "output_type": "stream",
     "text": [
      "              precision    recall  f1-score   support\n",
      "\n",
      "         0.0       0.78      0.89      0.83       105\n",
      "         1.0       0.80      0.65      0.72        74\n",
      "\n",
      "    accuracy                           0.79       179\n",
      "   macro avg       0.79      0.77      0.77       179\n",
      "weighted avg       0.79      0.79      0.78       179\n",
      "\n"
     ]
    }
   ],
   "source": [
    "print(classification_report(y_test, y_pred_classes))"
   ]
  },
  {
   "cell_type": "code",
   "execution_count": 21,
   "metadata": {},
   "outputs": [
    {
     "data": {
      "text/plain": [
       "<sklearn.metrics._plot.confusion_matrix.ConfusionMatrixDisplay at 0x222effb2d10>"
      ]
     },
     "execution_count": 21,
     "metadata": {},
     "output_type": "execute_result"
    },
    {
     "data": {
      "image/png": "[encoded data removed]",
      "text/plain": [
       "<Figure size 640x480 with 2 Axes>"
      ]
     },
     "metadata": {},
     "output_type": "display_data"
    }
   ],
   "source": [
    "cn = confusion_matrix(y_test, y_pred_classes)\n",
    "ConfusionMatrixDisplay(cn).plot()"
   ]
  },
  {
   "cell_type": "code",
   "execution_count": 22,
   "metadata": {},
   "outputs": [],
   "source": [
    "import sys\n",
    "import os\n",
    "sys.path.insert(0, os.path.join(base_path))"
   ]
  },
  {
   "cell_type": "code",
   "execution_count": 23,
   "metadata": {},
   "outputs": [
    {
     "data": {
      "text/plain": [
       "['c:\\\\Users\\\\victorhu.contrera\\\\Documents\\\\pro_dexire\\\\pro_DEXiRE',\n",
       " 'c:\\\\Users\\\\victorhu.contrera\\\\Anaconda3\\\\envs\\\\prodexire\\\\python310.zip',\n",
       " 'c:\\\\Users\\\\victorhu.contrera\\\\Anaconda3\\\\envs\\\\prodexire\\\\DLLs',\n",
       " 'c:\\\\Users\\\\victorhu.contrera\\\\Anaconda3\\\\envs\\\\prodexire\\\\lib',\n",
       " 'c:\\\\Users\\\\victorhu.contrera\\\\Anaconda3\\\\envs\\\\prodexire',\n",
       " '',\n",
       " 'c:\\\\Users\\\\victorhu.contrera\\\\Anaconda3\\\\envs\\\\prodexire\\\\lib\\\\site-packages',\n",
       " 'c:\\\\Users\\\\victorhu.contrera\\\\Anaconda3\\\\envs\\\\prodexire\\\\lib\\\\site-packages\\\\win32',\n",
       " 'c:\\\\Users\\\\victorhu.contrera\\\\Anaconda3\\\\envs\\\\prodexire\\\\lib\\\\site-packages\\\\win32\\\\lib',\n",
       " 'c:\\\\Users\\\\victorhu.contrera\\\\Anaconda3\\\\envs\\\\prodexire\\\\lib\\\\site-packages\\\\Pythonwin']"
      ]
     },
     "execution_count": 23,
     "metadata": {},
     "output_type": "execute_result"
    }
   ],
   "source": [
    "sys.path"
   ]
  },
  {
   "cell_type": "code",
   "execution_count": 24,
   "metadata": {},
   "outputs": [],
   "source": [
    "from dexire.dexire import DEXiRE"
   ]
  },
  {
   "cell_type": "code",
   "execution_count": 25,
   "metadata": {},
   "outputs": [
    {
     "name": "stdout",
     "output_type": "stream",
     "text": [
      "WARNING:tensorflow:From c:\\Users\\victorhu.contrera\\Anaconda3\\envs\\prodexire\\lib\\site-packages\\keras\\src\\saving\\legacy\\saved_model\\load.py:107: The name tf.gfile.Exists is deprecated. Please use tf.io.gfile.exists instead.\n",
      "\n"
     ]
    },
    {
     "name": "stderr",
     "output_type": "stream",
     "text": [
      "WARNING:tensorflow:From c:\\Users\\victorhu.contrera\\Anaconda3\\envs\\prodexire\\lib\\site-packages\\keras\\src\\saving\\legacy\\saved_model\\load.py:107: The name tf.gfile.Exists is deprecated. Please use tf.io.gfile.exists instead.\n",
      "\n"
     ]
    }
   ],
   "source": [
    "target_dir = os.path.join(base_path, 'models')\n",
    "model = tf.keras.models.load_model(os.path.join(target_dir, 'titanic_model.tf'))"
   ]
  },
  {
   "cell_type": "code",
   "execution_count": 26,
   "metadata": {},
   "outputs": [],
   "source": [
    "dexire = DEXiRE(model=model, feature_names=feature_names[:-1], class_names=['Survived', 'Not Survived'])"
   ]
  },
  {
   "cell_type": "code",
   "execution_count": 27,
   "metadata": {},
   "outputs": [
    {
     "name": "stdout",
     "output_type": "stream",
     "text": [
      "18/18 [==============================] - 0s 947us/step\n",
      "Unique predictions: [0. 1.]\n",
      "18/18 [==============================] - 0s 824us/step\n",
      "7\n",
      "feature_7\n",
      "Symbolic expression: feature_7 <= 0.5\n",
      "4\n",
      "feature_4\n",
      "Symbolic expression: feature_4 <= 0.5\n",
      "3\n",
      "feature_3\n",
      "Symbolic expression: feature_3 <= 0.5\n",
      "Symbolic expression: feature_3 > 0.5\n",
      "0\n",
      "feature_0\n",
      "Symbolic expression: feature_0 <= 0.5\n",
      "1\n",
      "feature_1\n",
      "Symbolic expression: feature_1 <= 0.5\n",
      "Symbolic expression: feature_1 > 0.5\n",
      "Symbolic expression: feature_0 > 0.5\n",
      "Symbolic expression: feature_4 > 0.5\n",
      "5\n",
      "feature_5\n",
      "Symbolic expression: feature_5 <= 0.5\n",
      "Symbolic expression: feature_5 > 0.5\n",
      "3\n",
      "feature_3\n",
      "Symbolic expression: feature_3 <= 0.5\n",
      "Symbolic expression: feature_3 > 0.5\n",
      "0\n",
      "feature_0\n",
      "Symbolic expression: feature_0 <= 0.5\n",
      "Symbolic expression: feature_0 > 0.5\n",
      "Symbolic expression: feature_7 > 0.5\n",
      "0\n",
      "feature_0\n",
      "Symbolic expression: feature_0 <= 0.5\n",
      "Symbolic expression: feature_0 > 0.5\n",
      "0\n",
      "onehot__Sex_female\n",
      "Symbolic expression: onehot__Sex_female <= 0.5\n",
      "7\n",
      "scaler__Age\n",
      "Symbolic expression: scaler__Age <= -1.901\n",
      "Symbolic expression: scaler__Age > -1.901\n",
      "Symbolic expression: onehot__Sex_female > 0.5\n",
      "9\n",
      "scaler__Parch\n",
      "Symbolic expression: scaler__Parch <= 1.388\n",
      "7\n",
      "scaler__Age\n",
      "Symbolic expression: scaler__Age <= 0.235\n",
      "8\n",
      "scaler__SibSp\n",
      "Symbolic expression: scaler__SibSp <= -0.021\n",
      "9\n",
      "scaler__Parch\n",
      "Symbolic expression: scaler__Parch <= 0.147\n",
      "Symbolic expression: scaler__Parch > 0.147\n",
      "Symbolic expression: scaler__SibSp > -0.021\n",
      "Symbolic expression: scaler__Age > 0.235\n",
      "Symbolic expression: scaler__Parch > 1.388\n",
      "Unique predictions: [0. 1.]\n",
      "18/18 [==============================] - 0s 874us/step\n",
      "2\n",
      "feature_2\n",
      "Symbolic expression: feature_2 <= 0.5\n",
      "1\n",
      "feature_1\n",
      "Symbolic expression: feature_1 <= 0.5\n",
      "Symbolic expression: feature_1 > 0.5\n",
      "3\n",
      "feature_3\n",
      "Symbolic expression: feature_3 <= 0.5\n",
      "Symbolic expression: feature_3 > 0.5\n",
      "Symbolic expression: feature_2 > 0.5\n",
      "0\n",
      "feature_0\n",
      "Symbolic expression: feature_0 <= 0.5\n",
      "Symbolic expression: feature_0 > 0.5\n",
      "1\n",
      "onehot__Sex_male\n",
      "Symbolic expression: onehot__Sex_male <= 0.5\n",
      "8\n",
      "scaler__SibSp\n",
      "Symbolic expression: scaler__SibSp <= 0.886\n",
      "9\n",
      "scaler__Parch\n",
      "Symbolic expression: scaler__Parch <= 3.871\n",
      "7\n",
      "scaler__Age\n",
      "Symbolic expression: scaler__Age <= -2.17\n",
      "Symbolic expression: scaler__Age > -2.17\n",
      "9\n",
      "scaler__Parch\n",
      "Symbolic expression: scaler__Parch <= 1.388\n",
      "9\n",
      "scaler__Parch\n",
      "Symbolic expression: scaler__Parch <= 0.147\n",
      "Symbolic expression: scaler__Parch > 0.147\n",
      "Symbolic expression: scaler__Parch > 1.388\n",
      "Symbolic expression: scaler__Parch > 3.871\n",
      "Symbolic expression: scaler__SibSp > 0.886\n",
      "Symbolic expression: onehot__Sex_male > 0.5\n",
      "total rules: [IF ((onehot__Sex_female <= 0.5) AND (scaler__Age > -1.901)) THEN Not Survived, IF ((onehot__Sex_female > 0.5) AND (scaler__Parch <= 1.388) AND (scaler__Age <= 0.235) AND (scaler__SibSp <= -0.021) AND (scaler__Parch <= 0.147)) THEN Survived, IF ((onehot__Sex_female > 0.5) AND (scaler__Parch <= 1.388) AND (scaler__Age > 0.235)) THEN Survived, IF ((onehot__Sex_female > 0.5) AND (scaler__Parch > 1.388)) THEN Not Survived, IF ((onehot__Sex_female > 0.5) AND (scaler__Parch <= 1.388) AND (scaler__Age <= 0.235) AND (scaler__SibSp > -0.021)) THEN Survived, IF ((onehot__Sex_female <= 0.5) AND (scaler__Age <= -1.901)) THEN Not Survived, IF ((onehot__Sex_female > 0.5) AND (scaler__Parch <= 1.388) AND (scaler__Age <= 0.235) AND (scaler__SibSp <= -0.021) AND (scaler__Parch > 0.147)) THEN Survived, IF ((onehot__Sex_male > 0.5)) THEN Not Survived, IF ((onehot__Sex_male <= 0.5) AND (scaler__SibSp <= 0.886) AND (scaler__Parch <= 3.871) AND (scaler__Age > -2.17) AND (scaler__Parch <= 1.388) AND (scaler__Parch <= 0.147)) THEN Survived, IF ((onehot__Sex_male <= 0.5) AND (scaler__SibSp > 0.886)) THEN Not Survived, IF ((onehot__Sex_male <= 0.5) AND (scaler__SibSp <= 0.886) AND (scaler__Parch <= 3.871) AND (scaler__Age > -2.17) AND (scaler__Parch <= 1.388) AND (scaler__Parch > 0.147)) THEN Survived, IF ((onehot__Sex_male <= 0.5) AND (scaler__SibSp <= 0.886) AND (scaler__Parch <= 3.871) AND (scaler__Age > -2.17) AND (scaler__Parch > 1.388)) THEN Survived, IF ((onehot__Sex_male <= 0.5) AND (scaler__SibSp <= 0.886) AND (scaler__Parch > 3.871)) THEN Not Survived, IF ((onehot__Sex_male <= 0.5) AND (scaler__SibSp <= 0.886) AND (scaler__Parch <= 3.871) AND (scaler__Age <= -2.17)) THEN Not Survived]\n"
     ]
    }
   ],
   "source": [
    "rule_set = dexire.extract_rules(X_train, y_train)"
   ]
  },
  {
   "cell_type": "code",
   "execution_count": 80,
   "metadata": {},
   "outputs": [
    {
     "name": "stdout",
     "output_type": "stream",
     "text": [
      "The autoreload extension is already loaded. To reload it, use:\n",
      "  %reload_ext autoreload\n"
     ]
    }
   ],
   "source": [
    "%load_ext autoreload\n",
    "%autoreload 2\n",
    "from dexire_pro.core.dexire_pro_pipeline import DexireProPipeline"
   ]
  },
  {
   "cell_type": "code",
   "execution_count": 111,
   "metadata": {},
   "outputs": [],
   "source": [
    "xai_pipeline = DexireProPipeline(model,\n",
    "                                 feature_names=feature_names[:-1],\n",
    "                                 target_names=['Survived', 'Not Survived'],\n",
    "                                 categorical_features=categorical_features,\n",
    "                                 numerical_features=numerical_features)\n",
    "                                 "
   ]
  },
  {
   "cell_type": "code",
   "execution_count": 82,
   "metadata": {},
   "outputs": [],
   "source": [
    "train_ds = tf.data.Dataset.from_tensor_slices((X_train, y_train))\n",
    "train_ds = train_ds.batch(32)\n",
    "test_ds = tf.data.Dataset.from_tensor_slices((X_test))\n",
    "test_ds = test_ds.batch(32)"
   ]
  },
  {
   "cell_type": "code",
   "execution_count": 104,
   "metadata": {},
   "outputs": [],
   "source": [
    "numerical_features_out = [f'{feature}' for feature in feature_names[:-1] if feature.split('_')[-1] in numerical_features]"
   ]
  },
  {
   "cell_type": "code",
   "execution_count": 107,
   "metadata": {},
   "outputs": [],
   "source": [
    "categorical_out = list(set(feature_names[:-1])-set(numerical_features_out))"
   ]
  },
  {
   "cell_type": "code",
   "execution_count": 108,
   "metadata": {},
   "outputs": [],
   "source": [
    "dict_pipeline = {'rule_extraction': {'tf_model_input': train_ds, \n",
    "                'X_train_xai': X_train,\n",
    "                'y_train_xai': y_train,\n",
    "                'tf_model_test_data': test_ds, \n",
    "                'X_test_xai': X_test,\n",
    "                'y_test_xai': y_test,\n",
    "                'layer_list': None,\n",
    "                'xai_feature_names': feature_names[:-1]},\n",
    "    'probabilistic_graphical_model': {\n",
    "        'numeric_features':numerical_features_out,\n",
    "        'categorical_features': categorical_out,\n",
    "        'target_col': 'y_pred'\n",
    "    }\n",
    "}"
   ]
  },
  {
   "cell_type": "code",
   "execution_count": 112,
   "metadata": {},
   "outputs": [
    {
     "name": "stdout",
     "output_type": "stream",
     "text": [
      "Rule extraction...\n",
      "Not processing\n",
      "Extracting rules...\n",
      "18/18 [==============================] - 0s 824us/step\n",
      "Unique predictions: [0. 1.]\n",
      "18/18 [==============================] - 0s 766us/step\n",
      "7\n",
      "feature_7\n",
      "Symbolic expression: feature_7 <= 0.5\n",
      "4\n",
      "feature_4\n",
      "Symbolic expression: feature_4 <= 0.5\n",
      "3\n",
      "feature_3\n",
      "Symbolic expression: feature_3 <= 0.5\n",
      "Symbolic expression: feature_3 > 0.5\n",
      "0\n",
      "feature_0\n",
      "Symbolic expression: feature_0 <= 0.5\n",
      "1\n",
      "feature_1\n",
      "Symbolic expression: feature_1 <= 0.5\n",
      "Symbolic expression: feature_1 > 0.5\n",
      "Symbolic expression: feature_0 > 0.5\n",
      "Symbolic expression: feature_4 > 0.5\n",
      "5\n",
      "feature_5\n",
      "Symbolic expression: feature_5 <= 0.5\n",
      "Symbolic expression: feature_5 > 0.5\n",
      "3\n",
      "feature_3\n",
      "Symbolic expression: feature_3 <= 0.5\n",
      "Symbolic expression: feature_3 > 0.5\n",
      "0\n",
      "feature_0\n",
      "Symbolic expression: feature_0 <= 0.5\n",
      "Symbolic expression: feature_0 > 0.5\n",
      "Symbolic expression: feature_7 > 0.5\n",
      "0\n",
      "feature_0\n",
      "Symbolic expression: feature_0 <= 0.5\n",
      "Symbolic expression: feature_0 > 0.5\n",
      "1\n",
      "onehot__Sex_male\n",
      "Symbolic expression: onehot__Sex_male <= 0.5\n",
      "9\n",
      "scaler__Parch\n",
      "Symbolic expression: scaler__Parch <= 1.388\n",
      "7\n",
      "scaler__Age\n",
      "Symbolic expression: scaler__Age <= 0.235\n",
      "8\n",
      "scaler__SibSp\n",
      "Symbolic expression: scaler__SibSp <= -0.021\n",
      "9\n",
      "scaler__Parch\n",
      "Symbolic expression: scaler__Parch <= 0.147\n",
      "Symbolic expression: scaler__Parch > 0.147\n",
      "Symbolic expression: scaler__SibSp > -0.021\n",
      "Symbolic expression: scaler__Age > 0.235\n",
      "Symbolic expression: scaler__Parch > 1.388\n",
      "Symbolic expression: onehot__Sex_male > 0.5\n",
      "7\n",
      "scaler__Age\n",
      "Symbolic expression: scaler__Age <= -1.901\n",
      "Symbolic expression: scaler__Age > -1.901\n",
      "Unique predictions: [0. 1.]\n",
      "18/18 [==============================] - 0s 882us/step\n",
      "2\n",
      "feature_2\n",
      "Symbolic expression: feature_2 <= 0.5\n",
      "1\n",
      "feature_1\n",
      "Symbolic expression: feature_1 <= 0.5\n",
      "Symbolic expression: feature_1 > 0.5\n",
      "3\n",
      "feature_3\n",
      "Symbolic expression: feature_3 <= 0.5\n",
      "Symbolic expression: feature_3 > 0.5\n",
      "Symbolic expression: feature_2 > 0.5\n",
      "0\n",
      "feature_0\n",
      "Symbolic expression: feature_0 <= 0.5\n",
      "Symbolic expression: feature_0 > 0.5\n",
      "0\n",
      "onehot__Sex_female\n",
      "Symbolic expression: onehot__Sex_female <= 0.5\n",
      "Symbolic expression: onehot__Sex_female > 0.5\n",
      "8\n",
      "scaler__SibSp\n",
      "Symbolic expression: scaler__SibSp <= 0.886\n",
      "9\n",
      "scaler__Parch\n",
      "Symbolic expression: scaler__Parch <= 3.871\n",
      "7\n",
      "scaler__Age\n",
      "Symbolic expression: scaler__Age <= -2.17\n",
      "Symbolic expression: scaler__Age > -2.17\n",
      "9\n",
      "scaler__Parch\n",
      "Symbolic expression: scaler__Parch <= 1.388\n",
      "9\n",
      "scaler__Parch\n",
      "Symbolic expression: scaler__Parch <= 0.147\n",
      "Symbolic expression: scaler__Parch > 0.147\n",
      "Symbolic expression: scaler__Parch > 1.388\n",
      "Symbolic expression: scaler__Parch > 3.871\n",
      "Symbolic expression: scaler__SibSp > 0.886\n",
      "total rules: [IF ((onehot__Sex_male > 0.5) AND (scaler__Age > -1.901)) THEN Not Survived, IF ((onehot__Sex_male <= 0.5) AND (scaler__Parch <= 1.388) AND (scaler__Age <= 0.235) AND (scaler__SibSp <= -0.021) AND (scaler__Parch <= 0.147)) THEN Survived, IF ((onehot__Sex_male <= 0.5) AND (scaler__Parch <= 1.388) AND (scaler__Age > 0.235)) THEN Survived, IF ((onehot__Sex_male <= 0.5) AND (scaler__Parch > 1.388)) THEN Not Survived, IF ((onehot__Sex_male <= 0.5) AND (scaler__Parch <= 1.388) AND (scaler__Age <= 0.235) AND (scaler__SibSp > -0.021)) THEN Survived, IF ((onehot__Sex_male > 0.5) AND (scaler__Age <= -1.901)) THEN Not Survived, IF ((onehot__Sex_male <= 0.5) AND (scaler__Parch <= 1.388) AND (scaler__Age <= 0.235) AND (scaler__SibSp <= -0.021) AND (scaler__Parch > 0.147)) THEN Survived, IF ((onehot__Sex_female <= 0.5)) THEN Not Survived, IF ((onehot__Sex_female > 0.5) AND (scaler__SibSp <= 0.886) AND (scaler__Parch <= 3.871) AND (scaler__Age > -2.17) AND (scaler__Parch <= 1.388) AND (scaler__Parch <= 0.147)) THEN Survived, IF ((onehot__Sex_female > 0.5) AND (scaler__SibSp > 0.886)) THEN Not Survived, IF ((onehot__Sex_female > 0.5) AND (scaler__SibSp <= 0.886) AND (scaler__Parch <= 3.871) AND (scaler__Age > -2.17) AND (scaler__Parch <= 1.388) AND (scaler__Parch > 0.147)) THEN Survived, IF ((onehot__Sex_female > 0.5) AND (scaler__SibSp <= 0.886) AND (scaler__Parch <= 3.871) AND (scaler__Age > -2.17) AND (scaler__Parch > 1.388)) THEN Survived, IF ((onehot__Sex_female > 0.5) AND (scaler__SibSp <= 0.886) AND (scaler__Parch > 3.871)) THEN Not Survived, IF ((onehot__Sex_female > 0.5) AND (scaler__SibSp <= 0.886) AND (scaler__Parch <= 3.871) AND (scaler__Age <= -2.17)) THEN Not Survived]\n",
      "Error: Mix of label input types (string and number) extracting rules\n",
      "rules extracted successfully\n",
      "Finished rule extraction step\n",
      "Probabilistic graphical model...\n",
      "[bnlearn] >Warning: Computing DAG with 12 nodes can take a very long time!\n",
      "[bnlearn] >Computing best DAG using [hc]\n",
      "[bnlearn] >Set scoring type at [bic]\n",
      "[bnlearn] >Compute structure scores for model comparison (higher is better).\n",
      "[bnlearn] >Parameter learning> Computing parameters using [bayes]\n",
      "[bnlearn] >Converting [<class 'pgmpy.base.DAG.DAG'>] to BayesianNetwork model.\n",
      "[bnlearn] >Converting adjmat to BayesianNetwork.\n",
      "[bnlearn] >CPD of onehot__Embarked_S:\n",
      "+-------------------------+-----+---------------------+\n",
      "| scaler__Pclass          | ... | scaler__Pclass(9)   |\n",
      "+-------------------------+-----+---------------------+\n",
      "| onehot__Embarked_S(0.0) | ... | 0.38928210313447925 |\n",
      "+-------------------------+-----+---------------------+\n",
      "| onehot__Embarked_S(1.0) | ... | 0.6107178968655207  |\n",
      "+-------------------------+-----+---------------------+\n",
      "[bnlearn] >CPD of onehot__Embarked_Q:\n",
      "+-------------------------+-----+-------------------------+\n",
      "| onehot__Embarked_S      | ... | onehot__Embarked_S(1.0) |\n",
      "+-------------------------+-----+-------------------------+\n",
      "| scaler__Pclass          | ... | scaler__Pclass(9)       |\n",
      "+-------------------------+-----+-------------------------+\n",
      "| onehot__Embarked_Q(0.0) | ... | 0.793046357615894       |\n",
      "+-------------------------+-----+-------------------------+\n",
      "| onehot__Embarked_Q(1.0) | ... | 0.20695364238410596     |\n",
      "+-------------------------+-----+-------------------------+\n",
      "[bnlearn] >CPD of onehot__Embarked_C:\n",
      "+-------------------------+-----+-------------------------+\n",
      "| onehot__Embarked_Q      | ... | onehot__Embarked_Q(1.0) |\n",
      "+-------------------------+-----+-------------------------+\n",
      "| onehot__Embarked_S      | ... | onehot__Embarked_S(1.0) |\n",
      "+-------------------------+-----+-------------------------+\n",
      "| onehot__Embarked_C(0.0) | ... | 0.5                     |\n",
      "+-------------------------+-----+-------------------------+\n",
      "| onehot__Embarked_C(1.0) | ... | 0.5                     |\n",
      "+-------------------------+-----+-------------------------+\n",
      "[bnlearn] >CPD of onehot__Sex_female:\n",
      "+-------------------------+-----+------------------+\n",
      "| scaler__SibSp           | ... | scaler__SibSp(9) |\n",
      "+-------------------------+-----+------------------+\n",
      "| y_pred                  | ... | y_pred(Survived) |\n",
      "+-------------------------+-----+------------------+\n",
      "| onehot__Sex_female(0.0) | ... | 0.5              |\n",
      "+-------------------------+-----+------------------+\n",
      "| onehot__Sex_female(1.0) | ... | 0.5              |\n",
      "+-------------------------+-----+------------------+\n",
      "[bnlearn] >CPD of onehot__Sex_male:\n",
      "+-----------------------+-------------------------+-------------------------+\n",
      "| onehot__Sex_female    | onehot__Sex_female(0.0) | onehot__Sex_female(1.0) |\n",
      "+-----------------------+-------------------------+-------------------------+\n",
      "| onehot__Sex_male(0.0) | 0.2853881278538813      | 0.6392496392496393      |\n",
      "+-----------------------+-------------------------+-------------------------+\n",
      "| onehot__Sex_male(1.0) | 0.7146118721461188      | 0.36075036075036077     |\n",
      "+-----------------------+-------------------------+-------------------------+\n",
      "[bnlearn] >CPD of scaler__Parch:\n",
      "+--------------------+-------------------------+-------------------------+\n",
      "| onehot__Sex_female | onehot__Sex_female(0.0) | onehot__Sex_female(1.0) |\n",
      "+--------------------+-------------------------+-------------------------+\n",
      "| scaler__Parch(0)   | 0.43770384866275275     | 0.2733457019171305      |\n",
      "+--------------------+-------------------------+-------------------------+\n",
      "| scaler__Parch(2)   | 0.1306262230919765      | 0.1535765821480107      |\n",
      "+--------------------+-------------------------+-------------------------+\n",
      "| scaler__Parch(3)   | 0.10322896281800391     | 0.15069057926200782     |\n",
      "+--------------------+-------------------------+-------------------------+\n",
      "| scaler__Parch(5)   | 0.08153946510110893     | 0.10595753452896309     |\n",
      "+--------------------+-------------------------+-------------------------+\n",
      "| scaler__Parch(6)   | 0.08268101761252446     | 0.10595753452896309     |\n",
      "+--------------------+-------------------------+-------------------------+\n",
      "| scaler__Parch(8)   | 0.08268101761252446     | 0.10595753452896309     |\n",
      "+--------------------+-------------------------+-------------------------+\n",
      "| scaler__Parch(9)   | 0.08153946510110893     | 0.10451453308596165     |\n",
      "+--------------------+-------------------------+-------------------------+\n",
      "[bnlearn] >CPD of scaler__Pclass:\n",
      "+-------------------+-----+---------------------+\n",
      "| scaler__Fare      | ... | scaler__Fare(9)     |\n",
      "+-------------------+-----+---------------------+\n",
      "| scaler__Pclass(0) | ... | 0.3425378040762656  |\n",
      "+-------------------+-----+---------------------+\n",
      "| scaler__Pclass(5) | ... | 0.32873109796186717 |\n",
      "+-------------------+-----+---------------------+\n",
      "| scaler__Pclass(9) | ... | 0.32873109796186717 |\n",
      "+-------------------+-----+---------------------+\n",
      "[bnlearn] >CPD of y_pred:\n",
      "+----------------------+-----+---------------------+\n",
      "| scaler__Pclass       | ... | scaler__Pclass(9)   |\n",
      "+----------------------+-----+---------------------+\n",
      "| y_pred(Not Survived) | ... | 0.641051567239636   |\n",
      "+----------------------+-----+---------------------+\n",
      "| y_pred(Survived)     | ... | 0.35894843276036403 |\n",
      "+----------------------+-----+---------------------+\n",
      "[bnlearn] >CPD of scaler__SibSp:\n",
      "+------------------+-----------+\n",
      "| scaler__SibSp(0) | 0.33133   |\n",
      "+------------------+-----------+\n",
      "| scaler__SibSp(2) | 0.176455  |\n",
      "+------------------+-----------+\n",
      "| scaler__SibSp(3) | 0.104434  |\n",
      "+------------------+-----------+\n",
      "| scaler__SibSp(4) | 0.0993353 |\n",
      "+------------------+-----------+\n",
      "| scaler__SibSp(5) | 0.0993353 |\n",
      "+------------------+-----------+\n",
      "| scaler__SibSp(6) | 0.0935992 |\n",
      "+------------------+-----------+\n",
      "| scaler__SibSp(9) | 0.0955112 |\n",
      "+------------------+-----------+\n",
      "[bnlearn] >CPD of scaler__Fare:\n",
      "+-----------------+-----------+\n",
      "| scaler__Fare(0) | 0.0967859 |\n",
      "+-----------------+-----------+\n",
      "| scaler__Fare(1) | 0.393153  |\n",
      "+-----------------+-----------+\n",
      "| scaler__Fare(2) | 0.128016  |\n",
      "+-----------------+-----------+\n",
      "| scaler__Fare(3) | 0.0993353 |\n",
      "+-----------------+-----------+\n",
      "| scaler__Fare(4) | 0.0955112 |\n",
      "+-----------------+-----------+\n",
      "| scaler__Fare(5) | 0.0948739 |\n",
      "+-----------------+-----------+\n",
      "| scaler__Fare(9) | 0.0923245 |\n",
      "+-----------------+-----------+\n",
      "[bnlearn] >Compute structure scores for model comparison (higher is better).\n",
      "[bnlearn] >WARNING> Skipping computing structure score for [k2].\n",
      "Pipeline execution finished successfully\n"
     ]
    }
   ],
   "source": [
    "xai_pipeline.full_pipeline(\n",
    "    train_df=pd.DataFrame(X_train, columns=feature_names[:-1]),\n",
    "    dict_steps_parameters=dict_pipeline\n",
    ")"
   ]
  }
 ],
 "metadata": {
  "kernelspec": {
   "display_name": "prodexire",
   "language": "python",
   "name": "python3"
  },
  "language_info": {
   "codemirror_mode": {
    "name": "ipython",
    "version": 3
   },
   "file_extension": ".py",
   "mimetype": "text/x-python",
   "name": "python",
   "nbconvert_exporter": "python",
   "pygments_lexer": "ipython3",
   "version": "3.10.14"
  }
 },
 "nbformat": 4,
 "nbformat_minor": 2
}
